{
 "cells": [
  {
   "cell_type": "markdown",
   "metadata": {
    "id": "zKbz1gy3ItVG"
   },
   "source": [
    "# 1.Read the housingdata.csv file into pandas DataFrame and display first six rows of the Dataframe"
   ]
  },
  {
   "cell_type": "code",
   "execution_count": 1,
   "metadata": {
    "id": "mVX2qi6gAp4S"
   },
   "outputs": [],
   "source": [
    "import pandas as pd"
   ]
  },
  {
   "cell_type": "code",
   "execution_count": 2,
   "metadata": {
    "id": "e_m3Ol7ABS4K"
   },
   "outputs": [],
   "source": [
    "df = pd.read_csv(\"C:/Users/ASUS/Downloads/housingdata (1).csv\")"
   ]
  },
  {
   "cell_type": "code",
   "execution_count": 3,
   "metadata": {
    "colab": {
     "base_uri": "https://localhost:8080/",
     "height": 237
    },
    "id": "UXFPGBrYBoEv",
    "outputId": "053753ec-3b19-4961-e7a3-59bf2cd8722f"
   },
   "outputs": [
    {
     "data": {
      "text/html": [
       "<div>\n",
       "<style scoped>\n",
       "    .dataframe tbody tr th:only-of-type {\n",
       "        vertical-align: middle;\n",
       "    }\n",
       "\n",
       "    .dataframe tbody tr th {\n",
       "        vertical-align: top;\n",
       "    }\n",
       "\n",
       "    .dataframe thead th {\n",
       "        text-align: right;\n",
       "    }\n",
       "</style>\n",
       "<table border=\"1\" class=\"dataframe\">\n",
       "  <thead>\n",
       "    <tr style=\"text-align: right;\">\n",
       "      <th></th>\n",
       "      <th>PID</th>\n",
       "      <th>STATE</th>\n",
       "      <th>PRICE</th>\n",
       "      <th>NUM_BEDROOMS</th>\n",
       "      <th>NUM_BATH</th>\n",
       "      <th>SQ_FT</th>\n",
       "    </tr>\n",
       "  </thead>\n",
       "  <tbody>\n",
       "    <tr>\n",
       "      <th>0</th>\n",
       "      <td>100001000.0</td>\n",
       "      <td>MP</td>\n",
       "      <td>321654</td>\n",
       "      <td>3</td>\n",
       "      <td>1</td>\n",
       "      <td>1000</td>\n",
       "    </tr>\n",
       "    <tr>\n",
       "      <th>1</th>\n",
       "      <td>100002000.0</td>\n",
       "      <td>MAHARASHTRA</td>\n",
       "      <td>21325</td>\n",
       "      <td>3</td>\n",
       "      <td>1.5</td>\n",
       "      <td>--</td>\n",
       "    </tr>\n",
       "    <tr>\n",
       "      <th>2</th>\n",
       "      <td>100003000.0</td>\n",
       "      <td>AP</td>\n",
       "      <td>2541654</td>\n",
       "      <td>NaN</td>\n",
       "      <td>1</td>\n",
       "      <td>850</td>\n",
       "    </tr>\n",
       "    <tr>\n",
       "      <th>3</th>\n",
       "      <td>100004000.0</td>\n",
       "      <td>TN</td>\n",
       "      <td>321321</td>\n",
       "      <td>1</td>\n",
       "      <td>NaN</td>\n",
       "      <td>700</td>\n",
       "    </tr>\n",
       "    <tr>\n",
       "      <th>4</th>\n",
       "      <td>NaN</td>\n",
       "      <td>TN</td>\n",
       "      <td>589465645</td>\n",
       "      <td>3</td>\n",
       "      <td>2</td>\n",
       "      <td>1600</td>\n",
       "    </tr>\n",
       "    <tr>\n",
       "      <th>5</th>\n",
       "      <td>100006000.0</td>\n",
       "      <td>TN</td>\n",
       "      <td>65465466</td>\n",
       "      <td>NaN</td>\n",
       "      <td>1</td>\n",
       "      <td>800</td>\n",
       "    </tr>\n",
       "  </tbody>\n",
       "</table>\n",
       "</div>"
      ],
      "text/plain": [
       "           PID        STATE      PRICE NUM_BEDROOMS NUM_BATH SQ_FT\n",
       "0  100001000.0           MP     321654            3        1  1000\n",
       "1  100002000.0  MAHARASHTRA      21325            3      1.5    --\n",
       "2  100003000.0           AP    2541654          NaN        1   850\n",
       "3  100004000.0           TN     321321            1      NaN   700\n",
       "4          NaN           TN  589465645            3        2  1600\n",
       "5  100006000.0           TN   65465466          NaN        1   800"
      ]
     },
     "execution_count": 3,
     "metadata": {},
     "output_type": "execute_result"
    }
   ],
   "source": [
    "df.head(6)"
   ]
  },
  {
   "cell_type": "markdown",
   "metadata": {
    "id": "rhSCh6dsC0zd"
   },
   "source": [
    "# 2.Display the column names and row index in separate cells."
   ]
  },
  {
   "cell_type": "code",
   "execution_count": 4,
   "metadata": {
    "colab": {
     "base_uri": "https://localhost:8080/"
    },
    "id": "kAGpfajeCIA4",
    "outputId": "c4cd3518-bece-4c9b-fa3a-f96b25a86ba9"
   },
   "outputs": [
    {
     "data": {
      "text/plain": [
       "RangeIndex(start=0, stop=9, step=1)"
      ]
     },
     "execution_count": 4,
     "metadata": {},
     "output_type": "execute_result"
    }
   ],
   "source": [
    "# Display column names\n",
    "column_names = df.columns\n",
    "column_names\n",
    "\n",
    "# Display row index\n",
    "row_index = df.index\n",
    "row_index\n"
   ]
  },
  {
   "cell_type": "markdown",
   "metadata": {
    "id": "Cfw_GKj1C_Q-"
   },
   "source": [
    "# 3.a) How many numbers of “STATE” exist in the dataset. Hint: use shape\n",
    "#   b) How many unique states exist in the dataset"
   ]
  },
  {
   "cell_type": "code",
   "execution_count": 5,
   "metadata": {
    "colab": {
     "base_uri": "https://localhost:8080/"
    },
    "id": "EhHQ8wIICngO",
    "outputId": "5b03565d-50a7-49fa-f1ff-a37b65359a28"
   },
   "outputs": [
    {
     "data": {
      "text/plain": [
       "(9, 6)"
      ]
     },
     "execution_count": 5,
     "metadata": {},
     "output_type": "execute_result"
    }
   ],
   "source": [
    "# a) Number of \"STATE\" entries in the dataset\n",
    "num_state_entries = df.shape[0]\n",
    "\n",
    "# b) Number of unique states in the dataset\n",
    "num_unique_states = df[\"STATE\"].nunique()\n",
    "\n",
    "num_state_entries, num_unique_states\n"
   ]
  },
  {
   "cell_type": "markdown",
   "metadata": {
    "id": "UZAisIULDrPq"
   },
   "source": [
    "# 4.Retrieve the list of all NaN/Null/Empty cells in the form of Boolean list"
   ]
  },
  {
   "cell_type": "code",
   "execution_count": 6,
   "metadata": {
    "colab": {
     "base_uri": "https://localhost:8080/"
    },
    "id": "jlRlw_fnDQwJ",
    "outputId": "1c44a53d-1de3-4184-95ad-a07bb9302f3e"
   },
   "outputs": [
    {
     "name": "stdout",
     "output_type": "stream",
     "text": [
      "     PID  STATE  PRICE  NUM_BEDROOMS  NUM_BATH  SQ_FT\n",
      "0  False  False  False         False     False  False\n",
      "1  False  False  False         False     False  False\n",
      "2  False  False  False          True     False  False\n",
      "3  False  False  False         False      True  False\n",
      "4   True  False  False         False     False  False\n",
      "5  False  False  False          True     False  False\n",
      "6  False  False  False         False     False  False\n",
      "7  False  False  False         False     False   True\n",
      "8  False  False  False         False     False  False\n"
     ]
    }
   ],
   "source": [
    "# Create a Boolean DataFrame where True represents NaN/Null/Empty cells\n",
    "null_cells = df.isnull()\n",
    "\n",
    "# Display the Boolean DataFrame\n",
    "print(null_cells)\n"
   ]
  },
  {
   "cell_type": "markdown",
   "metadata": {
    "id": "WcAUY3PaEJqu"
   },
   "source": [
    "# 5.Drop all rows with N/A,NA,na values in Num_Bedrooms"
   ]
  },
  {
   "cell_type": "code",
   "execution_count": 7,
   "metadata": {
    "id": "oECuZAd-D-MQ"
   },
   "outputs": [],
   "source": [
    "# Drop rows with N/A, NA, na values in the \"Num_Bedrooms\" column\n",
    "df = df.dropna(subset=[\"NUM_BEDROOMS\"], how=\"any\")\n",
    "\n",
    "# After dropping rows, you may want to reset the index\n",
    "df.reset_index(drop=True, inplace=True)\n"
   ]
  },
  {
   "cell_type": "markdown",
   "metadata": {
    "id": "ZiwJ-K9-EuYl"
   },
   "source": [
    "# 6.Replace the NaN and String entries in Num_Bath with previous entry"
   ]
  },
  {
   "cell_type": "code",
   "execution_count": 8,
   "metadata": {
    "colab": {
     "base_uri": "https://localhost:8080/"
    },
    "id": "6SKX23dnERV7",
    "outputId": "db62efb9-e7cc-48ec-c9e2-864882d2354b"
   },
   "outputs": [
    {
     "name": "stderr",
     "output_type": "stream",
     "text": [
      "C:\\Users\\ASUS\\AppData\\Local\\Temp\\ipykernel_18860\\494453396.py:2: FutureWarning: Series.fillna with 'method' is deprecated and will raise in a future version. Use obj.ffill() or obj.bfill() instead.\n",
      "  df['NUM_BATH'] = df['NUM_BATH'].fillna(method='ffill')\n"
     ]
    }
   ],
   "source": [
    "# Replace NaN and string entries in \"Num_Bath\" with the previous entry\n",
    "df['NUM_BATH'] = df['NUM_BATH'].fillna(method='ffill')\n"
   ]
  },
  {
   "cell_type": "markdown",
   "metadata": {
    "id": "F83z2I6CFIQx"
   },
   "source": [
    "# 7.Replace the empty values in “SQ_FT” with the mean of the all entries."
   ]
  },
  {
   "cell_type": "code",
   "execution_count": 9,
   "metadata": {
    "colab": {
     "base_uri": "https://localhost:8080/"
    },
    "id": "iHvwOzTtFSdu",
    "outputId": "edd359e7-64f5-40ed-b5df-76cdb7e09d3d"
   },
   "outputs": [],
   "source": [
    "df['SQ_FT']=pd.to_numeric(df['SQ_FT'],errors='coerce')\n",
    "# Calculate the mean of the \"SQ_FT\" column\n",
    "mean_sq_ft = df['SQ_FT'].mean()\n",
    "\n",
    "# Replace NaN (empty) values in \"SQ_FT\" with the mean\n",
    "df[\"SQ_FT\"].fillna(mean_sq_ft, inplace=True)\n"
   ]
  },
  {
   "cell_type": "markdown",
   "metadata": {
    "id": "q7TGfrJpF_ms"
   },
   "source": [
    "# 8.What is the sum of SQ_FT of all entries in the dataset."
   ]
  },
  {
   "cell_type": "code",
   "execution_count": 10,
   "metadata": {
    "colab": {
     "base_uri": "https://localhost:8080/"
    },
    "id": "TpAdXJwEFqvd",
    "outputId": "4f5c50a3-7938-4518-a938-27e55baf37eb"
   },
   "outputs": [
    {
     "name": "stdout",
     "output_type": "stream",
     "text": [
      "Sum of SQ_FT: 8470.0\n"
     ]
    }
   ],
   "source": [
    "# Calculate the sum of SQ_FT for all entries in the dataset\n",
    "sum_sq_ft = df[\"SQ_FT\"].sum()\n",
    "\n",
    "# Display the sum\n",
    "print(\"Sum of SQ_FT:\", sum_sq_ft)\n"
   ]
  },
  {
   "cell_type": "markdown",
   "metadata": {
    "id": "3X34vv4vF-VY"
   },
   "source": [
    "# 9.Add a new column “NUM_STORE” and with all the values as 1 for all rows"
   ]
  },
  {
   "cell_type": "code",
   "execution_count": 11,
   "metadata": {
    "colab": {
     "base_uri": "https://localhost:8080/"
    },
    "id": "q_HqeSGeGaJL",
    "outputId": "bf84b53e-28c7-498a-8eb2-ddb6273af305"
   },
   "outputs": [],
   "source": [
    "# Add a new column \"NUM_STORE\" with all values set to 1\n",
    "df['NUM_STORE'] = 1\n"
   ]
  },
  {
   "cell_type": "markdown",
   "metadata": {
    "id": "Fmu2utorGg50"
   },
   "source": [
    "# 10.Create a DataFrame containing all entries of TN state only"
   ]
  },
  {
   "cell_type": "code",
   "execution_count": 12,
   "metadata": {
    "id": "dBkQcPcDGeHb"
   },
   "outputs": [],
   "source": [
    "# Create a DataFrame containing all entries with the \"TN\" state\n",
    "tn_df = df[df[\"STATE\"] == \"TN\"]\n"
   ]
  },
  {
   "cell_type": "markdown",
   "metadata": {
    "id": "AVDEWzGbG6DP"
   },
   "source": [
    "# 11.Create a DataFrame having SQ_FT area greater than 1000 and display the DataFrame"
   ]
  },
  {
   "cell_type": "code",
   "execution_count": 13,
   "metadata": {
    "colab": {
     "base_uri": "https://localhost:8080/"
    },
    "id": "k4I12rUQGzv4",
    "outputId": "dcde4179-9ea9-487b-a559-380909cc91c6"
   },
   "outputs": [
    {
     "name": "stdout",
     "output_type": "stream",
     "text": [
      "           PID        STATE      PRICE NUM_BEDROOMS NUM_BATH   SQ_FT  \\\n",
      "1  100002000.0  MAHARASHTRA      21325            3      1.5  1210.0   \n",
      "3          NaN           TN  589465645            3        2  1600.0   \n",
      "5  100008000.0           HP      23131            1        1  1210.0   \n",
      "6  100009000.0           HP      21212           na        2  1800.0   \n",
      "\n",
      "   NUM_STORE  \n",
      "1          1  \n",
      "3          1  \n",
      "5          1  \n",
      "6          1  \n"
     ]
    }
   ],
   "source": [
    "# Create a DataFrame with \"SQ_FT\" area greater than 1000\n",
    "sq_ft_greater_than_1000 = df[df[\"SQ_FT\"] > 1000]\n",
    "\n",
    "# Display the resulting DataFrame\n",
    "print(sq_ft_greater_than_1000)\n"
   ]
  },
  {
   "cell_type": "markdown",
   "metadata": {
    "id": "pUQcahZCHNH3"
   },
   "source": [
    "# 12. Create a DataFrame having only first Three columns and First Three rows"
   ]
  },
  {
   "cell_type": "code",
   "execution_count": 14,
   "metadata": {
    "colab": {
     "base_uri": "https://localhost:8080/"
    },
    "id": "nSreqMrrHBFs",
    "outputId": "064fe675-5a0b-4285-a17e-c3d4dfd63c4f"
   },
   "outputs": [
    {
     "name": "stdout",
     "output_type": "stream",
     "text": [
      "           PID        STATE   PRICE\n",
      "0  100001000.0           MP  321654\n",
      "1  100002000.0  MAHARASHTRA   21325\n",
      "2  100004000.0           TN  321321\n"
     ]
    }
   ],
   "source": [
    "# Create a new DataFrame with the first three columns and first three rows\n",
    "subset_df = df.iloc[:3, :3]\n",
    "\n",
    "# Display the resulting DataFrame\n",
    "print(subset_df)\n"
   ]
  },
  {
   "cell_type": "markdown",
   "metadata": {
    "id": "MuTN3YhPHjv-"
   },
   "source": [
    "# 13.Display the state having highest average price per square foot of housing area. Hint: Average of (TotalPrice/Sq_Ft)"
   ]
  },
  {
   "cell_type": "code",
   "execution_count": 15,
   "metadata": {
    "colab": {
     "base_uri": "https://localhost:8080/"
    },
    "id": "Y78kWeglHhB8",
    "outputId": "a8d4bf5a-c7d7-4c6a-8b2b-dc34e721b849"
   },
   "outputs": [
    {
     "name": "stdout",
     "output_type": "stream",
     "text": [
      "State with the highest average price per square foot: TN\n"
     ]
    }
   ],
   "source": [
    "# Calculate the average price per square foot for each state\n",
    "df['Price_Per_Sq_Ft'] = df['PRICE'] / df['SQ_FT']\n",
    "average_price_by_state = df.groupby('STATE')['Price_Per_Sq_Ft'].mean()\n",
    "\n",
    "# Find the state with the highest average price per square foot\n",
    "state_with_highest_avg_price = average_price_by_state.idxmax()\n",
    "\n",
    "# Display the state with the highest average price per square foot\n",
    "print(\"State with the highest average price per square foot:\", state_with_highest_avg_price)\n"
   ]
  },
  {
   "cell_type": "code",
   "execution_count": null,
   "metadata": {},
   "outputs": [],
   "source": []
  }
 ],
 "metadata": {
  "colab": {
   "provenance": []
  },
  "kernelspec": {
   "display_name": "Python 3 (ipykernel)",
   "language": "python",
   "name": "python3"
  },
  "language_info": {
   "codemirror_mode": {
    "name": "ipython",
    "version": 3
   },
   "file_extension": ".py",
   "mimetype": "text/x-python",
   "name": "python",
   "nbconvert_exporter": "python",
   "pygments_lexer": "ipython3",
   "version": "3.10.11"
  }
 },
 "nbformat": 4,
 "nbformat_minor": 1
}
